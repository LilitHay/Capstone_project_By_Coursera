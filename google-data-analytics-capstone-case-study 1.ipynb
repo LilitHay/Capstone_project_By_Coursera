{
 "cells": [
  {
   "cell_type": "markdown",
   "id": "cdc33e2c",
   "metadata": {
    "papermill": {
     "duration": 0.248816,
     "end_time": "2022-01-04T22:16:10.548756",
     "exception": false,
     "start_time": "2022-01-04T22:16:10.299940",
     "status": "completed"
    },
    "tags": []
   },
   "source": [
    "**Scenario**\n",
    "\n",
    "The director of marketing believes the Cyclistic’s future success depends on maximizing the number of annual memberships. Therefore, analytics team wants to understand how casual riders and annual members use Cyclistic bikes differently. From these insights, the team will design a new marketing strategy to convert casual riders into annual members.\n",
    "\n",
    "**Stakeholders** \n",
    "\n",
    "Lily Moreno (the director of marketing department), Cyclistic marketing analytics team, Cyclistic executive team."
   ]
  },
  {
   "cell_type": "markdown",
   "id": "44ab5046",
   "metadata": {
    "papermill": {
     "duration": 0.248001,
     "end_time": "2022-01-04T22:16:11.043164",
     "exception": false,
     "start_time": "2022-01-04T22:16:10.795163",
     "status": "completed"
    },
    "tags": []
   },
   "source": [
    "#### Step1: Ask\n",
    "\n",
    "\n",
    "**Business task**  \n",
    "\n",
    "Design marketing strategies aimed at converting casual riders into annual members.\n",
    "\n",
    "The main goal of this analysis is to answer the key question: \n",
    "**“In what ways do members and casual riders use Divvy bikes differently?**"
   ]
  },
  {
   "cell_type": "markdown",
   "id": "098e98e9",
   "metadata": {
    "papermill": {
     "duration": 0.244664,
     "end_time": "2022-01-04T22:16:11.534414",
     "exception": false,
     "start_time": "2022-01-04T22:16:11.289750",
     "status": "completed"
    },
    "tags": []
   },
   "source": [
    "#### Step2: Prepare\n",
    "\n",
    "With the purpose to accomplish Google Data analyst Capstone project has been used provided public data available in the cloud https://divvy-tripdata.s3.amazonaws.com/index.html.\n",
    "\n",
    "The data has been made available by Motivate International Inc. under the license https://www.divvybikes.com/data-license-agreement. This is public data that will be used to explore how different customer types are using Cyclistic bikes. Data privacy is not violated. \n",
    "\n",
    "Data is separated in csv files by following naming convention: month, year and name of data set (e.g 202012-divvy-tripdata.csv). For this analysis is used the previous 12 months of Cyclistic trip data starting from December 2020 to November 2021.\n",
    "\n",
    "All analysis had been done with R programming language since its more comfortable and appropriate to work with big data set."
   ]
  },
  {
   "cell_type": "markdown",
   "id": "454a25b1",
   "metadata": {
    "papermill": {
     "duration": 0.247149,
     "end_time": "2022-01-04T22:16:12.026265",
     "exception": false,
     "start_time": "2022-01-04T22:16:11.779116",
     "status": "completed"
    },
    "tags": []
   },
   "source": [
    "**Installation and loading of required packages**"
   ]
  },
  {
   "cell_type": "code",
   "execution_count": 1,
   "id": "16e5530a",
   "metadata": {
    "execution": {
     "iopub.execute_input": "2022-01-04T22:16:12.560280Z",
     "iopub.status.busy": "2022-01-04T22:16:12.555945Z",
     "iopub.status.idle": "2022-01-04T22:17:04.557670Z",
     "shell.execute_reply": "2022-01-04T22:17:04.558213Z"
    },
    "papermill": {
     "duration": 52.287416,
     "end_time": "2022-01-04T22:17:04.558580",
     "exception": true,
     "start_time": "2022-01-04T22:16:12.271164",
     "status": "failed"
    },
    "tags": []
   },
   "outputs": [
    {
     "name": "stderr",
     "output_type": "stream",
     "text": [
      "Installing package into ‘/usr/local/lib/R/site-library’\n",
      "(as ‘lib’ is unspecified)\n",
      "\n",
      "── \u001b[1mAttaching packages\u001b[22m ─────────────────────────────────────── tidyverse 1.3.1 ──\n",
      "\n",
      "\u001b[32m✔\u001b[39m \u001b[34mggplot2\u001b[39m 3.3.5     \u001b[32m✔\u001b[39m \u001b[34mpurrr  \u001b[39m 0.3.4\n",
      "\u001b[32m✔\u001b[39m \u001b[34mtibble \u001b[39m 3.1.5     \u001b[32m✔\u001b[39m \u001b[34mdplyr  \u001b[39m 1.0.7\n",
      "\u001b[32m✔\u001b[39m \u001b[34mtidyr  \u001b[39m 1.1.4     \u001b[32m✔\u001b[39m \u001b[34mstringr\u001b[39m 1.4.0\n",
      "\u001b[32m✔\u001b[39m \u001b[34mreadr  \u001b[39m 2.0.2     \u001b[32m✔\u001b[39m \u001b[34mforcats\u001b[39m 0.5.1\n",
      "\n",
      "── \u001b[1mConflicts\u001b[22m ────────────────────────────────────────── tidyverse_conflicts() ──\n",
      "\u001b[31m✖\u001b[39m \u001b[34mdplyr\u001b[39m::\u001b[32mfilter()\u001b[39m masks \u001b[34mstats\u001b[39m::filter()\n",
      "\u001b[31m✖\u001b[39m \u001b[34mdplyr\u001b[39m::\u001b[32mlag()\u001b[39m    masks \u001b[34mstats\u001b[39m::lag()\n",
      "\n",
      "Installing package into ‘/usr/local/lib/R/site-library’\n",
      "(as ‘lib’ is unspecified)\n",
      "\n"
     ]
    },
    {
     "ename": "ERROR",
     "evalue": "Error in value[[3L]](cond): Package ‘lubridate’ version 1.7.10 cannot be unloaded:\n Error in unloadNamespace(package) : namespace ‘lubridate’ is imported by ‘tidyverse’ so cannot be unloaded\n\n",
     "output_type": "error",
     "traceback": [
      "Error in value[[3L]](cond): Package ‘lubridate’ version 1.7.10 cannot be unloaded:\n Error in unloadNamespace(package) : namespace ‘lubridate’ is imported by ‘tidyverse’ so cannot be unloaded\n\nTraceback:\n",
      "1. library(lubridate)",
      "2. tryCatch(unloadNamespace(package), error = function(e) {\n .     P <- if (!is.null(cc <- conditionCall(e))) \n .         paste(\"Error in\", deparse(cc)[1L], \": \")\n .     else \"Error : \"\n .     stop(gettextf(\"Package %s version %s cannot be unloaded:\\n %s\", \n .         sQuote(package), oldversion, paste0(P, conditionMessage(e), \n .             \"\\n\")), domain = NA)\n . })",
      "3. tryCatchList(expr, classes, parentenv, handlers)",
      "4. tryCatchOne(expr, names, parentenv, handlers[[1L]])",
      "5. value[[3L]](cond)",
      "6. stop(gettextf(\"Package %s version %s cannot be unloaded:\\n %s\", \n .     sQuote(package), oldversion, paste0(P, conditionMessage(e), \n .         \"\\n\")), domain = NA)"
     ]
    }
   ],
   "source": [
    "# tidyverse for data import and wrangling\n",
    "install.packages(\"tidyverse\")\n",
    "library(tidyverse)  #helps wrangle data\n",
    "\n",
    "# lubridate for date functions\n",
    "install.packages(\"lubridate\")\n",
    "library(lubridate)  #helps wrangle date attributes\n",
    "\n",
    "# ggplot for visualization\n",
    "install.packages(\"ggplot\")\n",
    "library(ggplot2)  #helps visualize data"
   ]
  },
  {
   "cell_type": "markdown",
   "id": "3baa3209",
   "metadata": {
    "papermill": {
     "duration": null,
     "end_time": null,
     "exception": null,
     "start_time": null,
     "status": "pending"
    },
    "tags": []
   },
   "source": [
    "**Collecting data**\n",
    "\n",
    "Uploading Divvy data sets (csv files) of last 12 months (December 2020-November 2021)."
   ]
  },
  {
   "cell_type": "code",
   "execution_count": null,
   "id": "b9010107",
   "metadata": {
    "execution": {
     "iopub.execute_input": "2022-01-04T22:08:11.211826Z",
     "iopub.status.busy": "2022-01-04T22:08:11.209838Z",
     "iopub.status.idle": "2022-01-04T22:08:14.731486Z"
    },
    "papermill": {
     "duration": null,
     "end_time": null,
     "exception": null,
     "start_time": null,
     "status": "pending"
    },
    "tags": []
   },
   "outputs": [],
   "source": [
    "m12_2020 <- read_csv(\"../input/divvydataset12-202011-2021/202012-divvy-tripdata.csv\")\n",
    "m01_2021 <- read_csv(\"../input/divvydataset12-202011-2021/202101-divvy-tripdata.csv\")\n",
    "m02_2021 <- read_csv(\"../input/divvydataset12-202011-2021/202102-divvy-tripdata.csv\")\n",
    "m03_2021 <- read_csv(\"../input/divvydataset12-202011-2021/202103-divvy-tripdata.csv\")\n",
    "m04_2021 <- read_csv(\"../input/divvydataset12-202011-2021/202104-divvy-tripdata.csv\")\n",
    "m05_2021 <- read_csv(\"../input/divvydataset12-202011-2021/202105-divvy-tripdata.csv\")\n",
    "m06_2021 <- read_csv(\"../input/divvydataset12-202011-2021/202106-divvy-tripdata.csv\")\n",
    "m07_2021 <- read_csv(\"../input/divvydataset12-202011-2021/202107-divvy-tripdata.csv\")\n",
    "m08_2021 <- read_csv(\"../input/divvydataset12-202011-2021/202108-divvy-tripdata.csv\")\n",
    "m09_2021 <- read_csv(\"../input/divvydataset12-202011-2021/202109-divvy-tripdata.csv\")\n",
    "m10_2021 <- read_csv(\"../input/divvydataset12-202011-2021/202110-divvy-tripdata.csv\")\n",
    "m11_2021 <- read_csv(\"../input/divvydataset12-202011-2021/202111-divvy-tripdata.csv\")"
   ]
  },
  {
   "cell_type": "markdown",
   "id": "286d9aa7",
   "metadata": {
    "papermill": {
     "duration": null,
     "end_time": null,
     "exception": null,
     "start_time": null,
     "status": "pending"
    },
    "tags": []
   },
   "source": [
    "**Checking  the  dataframe for discovering incongruencies and fixing the  errors.**\n",
    "\n",
    "* Checking columns names\n",
    "\n",
    "*Note: columns names are consistent, no need for further changes*"
   ]
  },
  {
   "cell_type": "code",
   "execution_count": null,
   "id": "ff470dfc",
   "metadata": {
    "execution": {
     "iopub.execute_input": "2022-01-04T22:08:18.720250Z",
     "iopub.status.busy": "2022-01-04T22:08:18.718291Z",
     "iopub.status.idle": "2022-01-04T22:08:18.800953Z"
    },
    "papermill": {
     "duration": null,
     "end_time": null,
     "exception": null,
     "start_time": null,
     "status": "pending"
    },
    "tags": []
   },
   "outputs": [],
   "source": [
    "colnames(m12_2020)\n",
    "colnames(m01_2021)\n",
    "colnames(m02_2021)\n",
    "colnames(m03_2021)\n",
    "colnames(m04_2021)\n",
    "colnames(m05_2021)\n",
    "colnames(m06_2021)\n",
    "colnames(m07_2021)\n",
    "colnames(m08_2021)\n",
    "colnames(m09_2021)\n",
    "colnames(m10_2021)\n",
    "colnames(m11_2021)"
   ]
  },
  {
   "cell_type": "markdown",
   "id": "525e9776",
   "metadata": {
    "papermill": {
     "duration": null,
     "end_time": null,
     "exception": null,
     "start_time": null,
     "status": "pending"
    },
    "tags": []
   },
   "source": [
    "* Checking the structure of data"
   ]
  },
  {
   "cell_type": "code",
   "execution_count": null,
   "id": "3d733617",
   "metadata": {
    "execution": {
     "iopub.execute_input": "2022-01-04T22:09:13.602154Z",
     "iopub.status.busy": "2022-01-04T22:09:13.600571Z",
     "iopub.status.idle": "2022-01-04T22:09:15.707084Z"
    },
    "papermill": {
     "duration": null,
     "end_time": null,
     "exception": null,
     "start_time": null,
     "status": "pending"
    },
    "tags": []
   },
   "outputs": [],
   "source": [
    "str(m12_2020)\n",
    "str(m01_2021)\n",
    "str(m02_2021)\n",
    "str(m03_2021)\n",
    "str(m04_2021)\n",
    "str(m05_2021)\n",
    "str(m06_2021)\n",
    "str(m07_2021)\n",
    "str(m08_2021)\n",
    "str(m09_2021)\n",
    "str(m10_2021)\n",
    "str(m11_2021)"
   ]
  },
  {
   "cell_type": "markdown",
   "id": "4a2d1a8f",
   "metadata": {
    "papermill": {
     "duration": null,
     "end_time": null,
     "exception": null,
     "start_time": null,
     "status": "pending"
    },
    "tags": []
   },
   "source": [
    "* Combining all csv files from last 12months into a single file."
   ]
  },
  {
   "cell_type": "code",
   "execution_count": null,
   "id": "3f37f28b",
   "metadata": {
    "execution": {
     "iopub.execute_input": "2022-01-04T22:10:23.263673Z",
     "iopub.status.busy": "2022-01-04T22:10:23.261547Z",
     "iopub.status.idle": "2022-01-04T22:10:46.611813Z"
    },
    "papermill": {
     "duration": null,
     "end_time": null,
     "exception": null,
     "start_time": null,
     "status": "pending"
    },
    "tags": []
   },
   "outputs": [],
   "source": [
    "joined_df <-rbind(m12_2020,m01_2021,m02_2021,m03_2021,m04_2021,m05_2021,m06_2021,\n",
    "                  m07_2021,m08_2021,m09_2021,m10_2021,m11_2021)"
   ]
  },
  {
   "cell_type": "markdown",
   "id": "bea1d26b",
   "metadata": {
    "papermill": {
     "duration": null,
     "end_time": null,
     "exception": null,
     "start_time": null,
     "status": "pending"
    },
    "tags": []
   },
   "source": [
    "* Removing start_lat, start_lng, end_lat and end_lng fields which are not necessary for analysis."
   ]
  },
  {
   "cell_type": "code",
   "execution_count": null,
   "id": "3c37516c",
   "metadata": {
    "execution": {
     "iopub.execute_input": "2022-01-04T22:13:11.495106Z",
     "iopub.status.busy": "2022-01-04T22:13:11.493466Z",
     "iopub.status.idle": "2022-01-04T22:13:11.523712Z"
    },
    "papermill": {
     "duration": null,
     "end_time": null,
     "exception": null,
     "start_time": null,
     "status": "pending"
    },
    "tags": []
   },
   "outputs": [],
   "source": [
    "joined_df <- joined_df %>%\n",
    "    select(-c(start_lat, start_lng, end_lat, end_lng))"
   ]
  },
  {
   "cell_type": "markdown",
   "id": "cf9b4d1c",
   "metadata": {
    "papermill": {
     "duration": null,
     "end_time": null,
     "exception": null,
     "start_time": null,
     "status": "pending"
    },
    "tags": []
   },
   "source": [
    "#### Step3: Process\n",
    "\n",
    "\n",
    "**Data cleaning and preparation for analysis.** \n",
    "\n",
    "1. Checking the data and removing incongruities.\n",
    "\n",
    "* Presenting the first 6 rows"
   ]
  },
  {
   "cell_type": "code",
   "execution_count": null,
   "id": "a1f87e62",
   "metadata": {
    "execution": {
     "iopub.execute_input": "2022-01-04T22:11:05.627386Z",
     "iopub.status.busy": "2022-01-04T22:11:05.625550Z",
     "iopub.status.idle": "2022-01-04T22:11:05.667537Z"
    },
    "papermill": {
     "duration": null,
     "end_time": null,
     "exception": null,
     "start_time": null,
     "status": "pending"
    },
    "tags": []
   },
   "outputs": [],
   "source": [
    "head(joined_df)"
   ]
  },
  {
   "cell_type": "markdown",
   "id": "35d90a8c",
   "metadata": {
    "papermill": {
     "duration": null,
     "end_time": null,
     "exception": null,
     "start_time": null,
     "status": "pending"
    },
    "tags": []
   },
   "source": [
    "* Presenting the last 6 rows"
   ]
  },
  {
   "cell_type": "code",
   "execution_count": null,
   "id": "e93eefdc",
   "metadata": {
    "execution": {
     "iopub.execute_input": "2022-01-04T22:11:09.701576Z",
     "iopub.status.busy": "2022-01-04T22:11:09.699678Z",
     "iopub.status.idle": "2022-01-04T22:11:09.731591Z"
    },
    "papermill": {
     "duration": null,
     "end_time": null,
     "exception": null,
     "start_time": null,
     "status": "pending"
    },
    "tags": []
   },
   "outputs": [],
   "source": [
    "tail(joined_df)  "
   ]
  },
  {
   "cell_type": "markdown",
   "id": "18ed7dec",
   "metadata": {
    "papermill": {
     "duration": null,
     "end_time": null,
     "exception": null,
     "start_time": null,
     "status": "pending"
    },
    "tags": []
   },
   "source": [
    "* Checking the names of the columns"
   ]
  },
  {
   "cell_type": "code",
   "execution_count": null,
   "id": "7bc971b6",
   "metadata": {
    "execution": {
     "iopub.execute_input": "2022-01-04T22:13:00.759970Z",
     "iopub.status.busy": "2022-01-04T22:13:00.757969Z",
     "iopub.status.idle": "2022-01-04T22:13:00.779585Z"
    },
    "papermill": {
     "duration": null,
     "end_time": null,
     "exception": null,
     "start_time": null,
     "status": "pending"
    },
    "tags": []
   },
   "outputs": [],
   "source": [
    "colnames(joined_df)  "
   ]
  },
  {
   "cell_type": "markdown",
   "id": "4d1e89aa",
   "metadata": {
    "papermill": {
     "duration": null,
     "end_time": null,
     "exception": null,
     "start_time": null,
     "status": "pending"
    },
    "tags": []
   },
   "source": [
    "* Checking number of rows"
   ]
  },
  {
   "cell_type": "code",
   "execution_count": null,
   "id": "9e01aac8",
   "metadata": {
    "execution": {
     "iopub.execute_input": "2022-01-04T22:11:21.263001Z",
     "iopub.status.busy": "2022-01-04T22:11:21.261334Z",
     "iopub.status.idle": "2022-01-04T22:11:21.278816Z"
    },
    "papermill": {
     "duration": null,
     "end_time": null,
     "exception": null,
     "start_time": null,
     "status": "pending"
    },
    "tags": []
   },
   "outputs": [],
   "source": [
    "nrow(joined_df)"
   ]
  },
  {
   "cell_type": "markdown",
   "id": "6ea3501f",
   "metadata": {
    "papermill": {
     "duration": null,
     "end_time": null,
     "exception": null,
     "start_time": null,
     "status": "pending"
    },
    "tags": []
   },
   "source": [
    "* Checking dimension of the data frame (rows/columns)"
   ]
  },
  {
   "cell_type": "code",
   "execution_count": null,
   "id": "3aad1c0b",
   "metadata": {
    "execution": {
     "iopub.execute_input": "2022-01-04T22:11:24.964986Z",
     "iopub.status.busy": "2022-01-04T22:11:24.963145Z",
     "iopub.status.idle": "2022-01-04T22:11:24.982796Z"
    },
    "papermill": {
     "duration": null,
     "end_time": null,
     "exception": null,
     "start_time": null,
     "status": "pending"
    },
    "tags": []
   },
   "outputs": [],
   "source": [
    "dim(joined_df) "
   ]
  },
  {
   "cell_type": "markdown",
   "id": "5ba88070",
   "metadata": {
    "papermill": {
     "duration": null,
     "end_time": null,
     "exception": null,
     "start_time": null,
     "status": "pending"
    },
    "tags": []
   },
   "source": [
    "* Checking the data structure"
   ]
  },
  {
   "cell_type": "code",
   "execution_count": null,
   "id": "8343f2c3",
   "metadata": {
    "execution": {
     "iopub.execute_input": "2022-01-04T22:11:27.108398Z",
     "iopub.status.busy": "2022-01-04T22:11:27.106549Z",
     "iopub.status.idle": "2022-01-04T22:11:27.150374Z"
    },
    "papermill": {
     "duration": null,
     "end_time": null,
     "exception": null,
     "start_time": null,
     "status": "pending"
    },
    "tags": []
   },
   "outputs": [],
   "source": [
    "str(joined_df)"
   ]
  },
  {
   "cell_type": "markdown",
   "id": "f26a8d22",
   "metadata": {
    "papermill": {
     "duration": null,
     "end_time": null,
     "exception": null,
     "start_time": null,
     "status": "pending"
    },
    "tags": []
   },
   "source": [
    "* Showing statistical summary of the data set"
   ]
  },
  {
   "cell_type": "code",
   "execution_count": null,
   "id": "79905fc5",
   "metadata": {
    "execution": {
     "iopub.execute_input": "2022-01-04T22:11:30.234617Z",
     "iopub.status.busy": "2022-01-04T22:11:30.232415Z",
     "iopub.status.idle": "2022-01-04T22:11:34.307212Z"
    },
    "papermill": {
     "duration": null,
     "end_time": null,
     "exception": null,
     "start_time": null,
     "status": "pending"
    },
    "tags": []
   },
   "outputs": [],
   "source": [
    "summary(joined_df)"
   ]
  },
  {
   "cell_type": "markdown",
   "id": "736682b5",
   "metadata": {
    "papermill": {
     "duration": null,
     "end_time": null,
     "exception": null,
     "start_time": null,
     "status": "pending"
    },
    "tags": []
   },
   "source": [
    "2. Checking *Member_Casual* column variables\n",
    "\n",
    "    *Note: only available member and casual user types. No need for further changes.*"
   ]
  },
  {
   "cell_type": "code",
   "execution_count": null,
   "id": "1cc339ad",
   "metadata": {
    "execution": {
     "iopub.execute_input": "2022-01-04T22:11:37.947796Z",
     "iopub.status.busy": "2022-01-04T22:11:37.946081Z",
     "iopub.status.idle": "2022-01-04T22:11:38.099884Z"
    },
    "papermill": {
     "duration": null,
     "end_time": null,
     "exception": null,
     "start_time": null,
     "status": "pending"
    },
    "tags": []
   },
   "outputs": [],
   "source": [
    "unique(joined_df$member_casual)"
   ]
  },
  {
   "cell_type": "markdown",
   "id": "9f453d2b",
   "metadata": {
    "papermill": {
     "duration": null,
     "end_time": null,
     "exception": null,
     "start_time": null,
     "status": "pending"
    },
    "tags": []
   },
   "source": [
    "3. Checking existence of empty rows and columns."
   ]
  },
  {
   "cell_type": "code",
   "execution_count": null,
   "id": "90f8f784",
   "metadata": {
    "execution": {
     "iopub.execute_input": "2022-01-04T22:11:40.652532Z",
     "iopub.status.busy": "2022-01-04T22:11:40.650618Z",
     "iopub.status.idle": "2022-01-04T22:11:43.420066Z"
    },
    "papermill": {
     "duration": null,
     "end_time": null,
     "exception": null,
     "start_time": null,
     "status": "pending"
    },
    "tags": []
   },
   "outputs": [],
   "source": [
    "sum(is.na(joined_df) == nrow(joined_df))\n",
    "sum(is.na(joined_df) == ncol(joined_df))"
   ]
  },
  {
   "cell_type": "markdown",
   "id": "2fa24591",
   "metadata": {
    "papermill": {
     "duration": null,
     "end_time": null,
     "exception": null,
     "start_time": null,
     "status": "pending"
    },
    "tags": []
   },
   "source": [
    "4. Checking existence of duplicate values in the column *ride_id*.\n",
    "\n",
    "    *Note: data set does not have duplicates.*"
   ]
  },
  {
   "cell_type": "code",
   "execution_count": null,
   "id": "3fc5a3d0",
   "metadata": {
    "execution": {
     "iopub.execute_input": "2022-01-04T22:11:50.045253Z",
     "iopub.status.busy": "2022-01-04T22:11:50.042975Z",
     "iopub.status.idle": "2022-01-04T22:11:51.157041Z"
    },
    "papermill": {
     "duration": null,
     "end_time": null,
     "exception": null,
     "start_time": null,
     "status": "pending"
    },
    "tags": []
   },
   "outputs": [],
   "source": [
    "joined_df[duplicated(joined_df$ride_id),]"
   ]
  },
  {
   "cell_type": "markdown",
   "id": "7c46fb69",
   "metadata": {
    "papermill": {
     "duration": null,
     "end_time": null,
     "exception": null,
     "start_time": null,
     "status": "pending"
    },
    "tags": []
   },
   "source": [
    "5. Looking the number of observations per each user type"
   ]
  },
  {
   "cell_type": "code",
   "execution_count": null,
   "id": "a6a36969",
   "metadata": {
    "execution": {
     "iopub.execute_input": "2022-01-04T22:11:54.741425Z",
     "iopub.status.busy": "2022-01-04T22:11:54.739724Z",
     "iopub.status.idle": "2022-01-04T22:11:55.114422Z"
    },
    "papermill": {
     "duration": null,
     "end_time": null,
     "exception": null,
     "start_time": null,
     "status": "pending"
    },
    "tags": []
   },
   "outputs": [],
   "source": [
    "table(joined_df$member_casual)"
   ]
  },
  {
   "cell_type": "markdown",
   "id": "517c5e10",
   "metadata": {
    "papermill": {
     "duration": null,
     "end_time": null,
     "exception": null,
     "start_time": null,
     "status": "pending"
    },
    "tags": []
   },
   "source": [
    "6. Adding columns date, month, day, and year of each ride."
   ]
  },
  {
   "cell_type": "code",
   "execution_count": null,
   "id": "b9638aef",
   "metadata": {
    "execution": {
     "iopub.execute_input": "2022-01-04T22:11:57.779997Z",
     "iopub.status.busy": "2022-01-04T22:11:57.778025Z",
     "iopub.status.idle": "2022-01-04T22:12:06.085195Z"
    },
    "papermill": {
     "duration": null,
     "end_time": null,
     "exception": null,
     "start_time": null,
     "status": "pending"
    },
    "tags": []
   },
   "outputs": [],
   "source": [
    "joined_df$date <- as.Date(joined_df$started_at) #The default format is yyyy-mm-dd\n",
    "joined_df$month <- format(as.Date(joined_df$date), \"%m\")\n",
    "joined_df$day <- format(as.Date(joined_df$date), \"%d\")\n",
    "joined_df$year <- format(as.Date(joined_df$date), \"%Y\")\n",
    "joined_df$day_of_week <- format(as.Date(joined_df$date), \"%A\")"
   ]
  },
  {
   "cell_type": "markdown",
   "id": "b9c3cd6d",
   "metadata": {
    "papermill": {
     "duration": null,
     "end_time": null,
     "exception": null,
     "start_time": null,
     "status": "pending"
    },
    "tags": []
   },
   "source": [
    "7. Adding a *ride_length* column for calculation rides' duration (in seconds)"
   ]
  },
  {
   "cell_type": "code",
   "execution_count": null,
   "id": "2fa7be39",
   "metadata": {
    "execution": {
     "iopub.execute_input": "2022-01-04T22:12:09.682979Z",
     "iopub.status.busy": "2022-01-04T22:12:09.681007Z",
     "iopub.status.idle": "2022-01-04T22:12:10.260669Z"
    },
    "papermill": {
     "duration": null,
     "end_time": null,
     "exception": null,
     "start_time": null,
     "status": "pending"
    },
    "tags": []
   },
   "outputs": [],
   "source": [
    "joined_df$ride_length <- difftime(joined_df$ended_at,joined_df$started_at)"
   ]
  },
  {
   "cell_type": "markdown",
   "id": "e65d1e21",
   "metadata": {
    "papermill": {
     "duration": null,
     "end_time": null,
     "exception": null,
     "start_time": null,
     "status": "pending"
    },
    "tags": []
   },
   "source": [
    "8. Inspecting the data structure of the columns"
   ]
  },
  {
   "cell_type": "code",
   "execution_count": null,
   "id": "7c035277",
   "metadata": {
    "execution": {
     "iopub.execute_input": "2022-01-04T22:12:13.882618Z",
     "iopub.status.busy": "2022-01-04T22:12:13.881016Z",
     "iopub.status.idle": "2022-01-04T22:12:13.932667Z"
    },
    "papermill": {
     "duration": null,
     "end_time": null,
     "exception": null,
     "start_time": null,
     "status": "pending"
    },
    "tags": []
   },
   "outputs": [],
   "source": [
    "str(joined_df)"
   ]
  },
  {
   "cell_type": "markdown",
   "id": "4349f8f0",
   "metadata": {
    "papermill": {
     "duration": null,
     "end_time": null,
     "exception": null,
     "start_time": null,
     "status": "pending"
    },
    "tags": []
   },
   "source": [
    "9. Checking the data structure of the new created *ride_length* column"
   ]
  },
  {
   "cell_type": "code",
   "execution_count": null,
   "id": "b5cf4d27",
   "metadata": {
    "execution": {
     "iopub.execute_input": "2022-01-04T22:12:16.975837Z",
     "iopub.status.busy": "2022-01-04T22:12:16.974252Z",
     "iopub.status.idle": "2022-01-04T22:12:16.990419Z"
    },
    "papermill": {
     "duration": null,
     "end_time": null,
     "exception": null,
     "start_time": null,
     "status": "pending"
    },
    "tags": []
   },
   "outputs": [],
   "source": [
    "str(joined_df$ride_length)"
   ]
  },
  {
   "cell_type": "markdown",
   "id": "ff1a1220",
   "metadata": {
    "papermill": {
     "duration": null,
     "end_time": null,
     "exception": null,
     "start_time": null,
     "status": "pending"
    },
    "tags": []
   },
   "source": [
    "10. Converting *ride_length* column from factor to numeric for making calculations on the data"
   ]
  },
  {
   "cell_type": "code",
   "execution_count": null,
   "id": "d9d69ef0",
   "metadata": {
    "execution": {
     "iopub.execute_input": "2022-01-04T22:12:19.413831Z",
     "iopub.status.busy": "2022-01-04T22:12:19.412044Z",
     "iopub.status.idle": "2022-01-04T22:12:26.751988Z"
    },
    "papermill": {
     "duration": null,
     "end_time": null,
     "exception": null,
     "start_time": null,
     "status": "pending"
    },
    "tags": []
   },
   "outputs": [],
   "source": [
    "is.factor(joined_df$ride_length)\n",
    "joined_df$ride_length <- as.numeric(as.character(joined_df$ride_length))\n",
    "is.numeric(joined_df$ride_length)"
   ]
  },
  {
   "cell_type": "markdown",
   "id": "e0e86540",
   "metadata": {
    "papermill": {
     "duration": null,
     "end_time": null,
     "exception": null,
     "start_time": null,
     "status": "pending"
    },
    "tags": []
   },
   "source": [
    "11. Removing \"bad\" data\n",
    "\n",
    "Cleaning data by removing rows where *ride_length* value is negative. \n",
    "Saving data in the new data frame *joined_df_v2*."
   ]
  },
  {
   "cell_type": "code",
   "execution_count": null,
   "id": "dc11d058",
   "metadata": {
    "execution": {
     "iopub.execute_input": "2022-01-04T22:12:29.330872Z",
     "iopub.status.busy": "2022-01-04T22:12:29.329018Z",
     "iopub.status.idle": "2022-01-04T22:12:30.713613Z"
    },
    "papermill": {
     "duration": null,
     "end_time": null,
     "exception": null,
     "start_time": null,
     "status": "pending"
    },
    "tags": []
   },
   "outputs": [],
   "source": [
    "joined_df_v2 <- joined_df[!(joined_df$ride_length<0),]"
   ]
  },
  {
   "cell_type": "markdown",
   "id": "c3ef8680",
   "metadata": {
    "papermill": {
     "duration": null,
     "end_time": null,
     "exception": null,
     "start_time": null,
     "status": "pending"
    },
    "tags": []
   },
   "source": [
    "#### Step4: Analyse\n",
    "\n",
    "\n",
    "1. Conducting descriptive analysis on *ride_length* column (all figures in seconds)\n",
    "\n",
    "* Average duration of trips"
   ]
  },
  {
   "cell_type": "code",
   "execution_count": null,
   "id": "e3262678",
   "metadata": {
    "execution": {
     "iopub.execute_input": "2022-01-04T22:12:33.500647Z",
     "iopub.status.busy": "2022-01-04T22:12:33.498673Z",
     "iopub.status.idle": "2022-01-04T22:12:33.535122Z"
    },
    "papermill": {
     "duration": null,
     "end_time": null,
     "exception": null,
     "start_time": null,
     "status": "pending"
    },
    "tags": []
   },
   "outputs": [],
   "source": [
    "mean(joined_df_v2$ride_length)"
   ]
  },
  {
   "cell_type": "markdown",
   "id": "ffa64cbe",
   "metadata": {
    "papermill": {
     "duration": null,
     "end_time": null,
     "exception": null,
     "start_time": null,
     "status": "pending"
    },
    "tags": []
   },
   "source": [
    "The average duration of trips is taking about 22.13 minutes.\n",
    "\n",
    "* The longest trip duration"
   ]
  },
  {
   "cell_type": "code",
   "execution_count": null,
   "id": "e0d162e6",
   "metadata": {
    "execution": {
     "iopub.execute_input": "2022-01-04T22:12:35.876194Z",
     "iopub.status.busy": "2022-01-04T22:12:35.874545Z",
     "iopub.status.idle": "2022-01-04T22:12:35.903500Z"
    },
    "papermill": {
     "duration": null,
     "end_time": null,
     "exception": null,
     "start_time": null,
     "status": "pending"
    },
    "tags": []
   },
   "outputs": [],
   "source": [
    "max(joined_df_v2$ride_length) "
   ]
  },
  {
   "cell_type": "markdown",
   "id": "1b977b16",
   "metadata": {
    "papermill": {
     "duration": null,
     "end_time": null,
     "exception": null,
     "start_time": null,
     "status": "pending"
    },
    "tags": []
   },
   "source": [
    "The longest ride is taking about 38 days and 20.4hours.\n",
    "\n",
    "\n",
    "* The shortest trip duration"
   ]
  },
  {
   "cell_type": "code",
   "execution_count": null,
   "id": "dd0ad550",
   "metadata": {
    "execution": {
     "iopub.execute_input": "2022-01-04T22:12:50.431652Z",
     "iopub.status.busy": "2022-01-04T22:12:50.429571Z",
     "iopub.status.idle": "2022-01-04T22:12:50.464102Z"
    },
    "papermill": {
     "duration": null,
     "end_time": null,
     "exception": null,
     "start_time": null,
     "status": "pending"
    },
    "tags": []
   },
   "outputs": [],
   "source": [
    "min(joined_df_v2$ride_length)"
   ]
  },
  {
   "cell_type": "markdown",
   "id": "0ed9e24d",
   "metadata": {
    "papermill": {
     "duration": null,
     "end_time": null,
     "exception": null,
     "start_time": null,
     "status": "pending"
    },
    "tags": []
   },
   "source": [
    "* Summary of descriptive analysis"
   ]
  },
  {
   "cell_type": "code",
   "execution_count": null,
   "id": "da68f361",
   "metadata": {
    "execution": {
     "iopub.execute_input": "2022-01-04T22:13:18.933938Z",
     "iopub.status.busy": "2022-01-04T22:13:18.932004Z",
     "iopub.status.idle": "2022-01-04T22:13:25.276442Z"
    },
    "papermill": {
     "duration": null,
     "end_time": null,
     "exception": null,
     "start_time": null,
     "status": "pending"
    },
    "tags": []
   },
   "outputs": [],
   "source": [
    "summary(joined_df_v2)"
   ]
  },
  {
   "cell_type": "markdown",
   "id": "30a01d8c",
   "metadata": {
    "papermill": {
     "duration": null,
     "end_time": null,
     "exception": null,
     "start_time": null,
     "status": "pending"
    },
    "tags": []
   },
   "source": [
    "2. Comparing the average, longest and shortest trips duration for annual and occasional riders.\n",
    "\n",
    "* Average travel duration"
   ]
  },
  {
   "cell_type": "code",
   "execution_count": null,
   "id": "cdde30a0",
   "metadata": {
    "execution": {
     "iopub.execute_input": "2022-01-04T22:13:29.583032Z",
     "iopub.status.busy": "2022-01-04T22:13:29.580844Z",
     "iopub.status.idle": "2022-01-04T22:13:35.190976Z"
    },
    "papermill": {
     "duration": null,
     "end_time": null,
     "exception": null,
     "start_time": null,
     "status": "pending"
    },
    "tags": []
   },
   "outputs": [],
   "source": [
    "aggregate(joined_df_v2$ride_length ~ joined_df_v2$member_casual, FUN = mean)"
   ]
  },
  {
   "cell_type": "markdown",
   "id": "88029b8f",
   "metadata": {
    "papermill": {
     "duration": null,
     "end_time": null,
     "exception": null,
     "start_time": null,
     "status": "pending"
    },
    "tags": []
   },
   "source": [
    "Average ride length for casual riders is taking about \n",
    "32.18 minutes, while the average ride time is more than 2 times less for members. Member type of users average ride time is 13.76 minutes."
   ]
  },
  {
   "cell_type": "markdown",
   "id": "ffde0e4b",
   "metadata": {
    "papermill": {
     "duration": null,
     "end_time": null,
     "exception": null,
     "start_time": null,
     "status": "pending"
    },
    "tags": []
   },
   "source": [
    "* Longest travel duration"
   ]
  },
  {
   "cell_type": "code",
   "execution_count": null,
   "id": "d33eaba6",
   "metadata": {
    "execution": {
     "iopub.execute_input": "2022-01-04T22:13:39.125066Z",
     "iopub.status.busy": "2022-01-04T22:13:39.123516Z",
     "iopub.status.idle": "2022-01-04T22:13:42.675712Z"
    },
    "papermill": {
     "duration": null,
     "end_time": null,
     "exception": null,
     "start_time": null,
     "status": "pending"
    },
    "tags": []
   },
   "outputs": [],
   "source": [
    "aggregate(joined_df_v2$ride_length ~ joined_df_v2$member_casual, FUN = max)"
   ]
  },
  {
   "cell_type": "markdown",
   "id": "63467b87",
   "metadata": {
    "papermill": {
     "duration": null,
     "end_time": null,
     "exception": null,
     "start_time": null,
     "status": "pending"
    },
    "tags": []
   },
   "source": [
    "Besides of having higher average ride time, casual riders also have longer travel duration. For casual riders it take about 38 days and 20.4 hours while for members it takes 1 day and 2 hours.\n",
    "\n",
    "\n",
    "\n",
    "* Shortest travel duration"
   ]
  },
  {
   "cell_type": "code",
   "execution_count": null,
   "id": "e2879427",
   "metadata": {
    "execution": {
     "iopub.execute_input": "2022-01-04T22:13:46.654572Z",
     "iopub.status.busy": "2022-01-04T22:13:46.652685Z",
     "iopub.status.idle": "2022-01-04T22:13:51.390680Z"
    },
    "papermill": {
     "duration": null,
     "end_time": null,
     "exception": null,
     "start_time": null,
     "status": "pending"
    },
    "tags": []
   },
   "outputs": [],
   "source": [
    "aggregate(joined_df_v2$ride_length ~ joined_df_v2$member_casual, FUN = min)"
   ]
  },
  {
   "cell_type": "markdown",
   "id": "f2cad4b8",
   "metadata": {
    "papermill": {
     "duration": null,
     "end_time": null,
     "exception": null,
     "start_time": null,
     "status": "pending"
    },
    "tags": []
   },
   "source": [
    "* The average duration of ride by each weekday per user type"
   ]
  },
  {
   "cell_type": "code",
   "execution_count": null,
   "id": "c00ad020",
   "metadata": {
    "execution": {
     "iopub.execute_input": "2022-01-04T22:13:54.232359Z",
     "iopub.status.busy": "2022-01-04T22:13:54.230394Z",
     "iopub.status.idle": "2022-01-04T22:14:00.538708Z"
    },
    "papermill": {
     "duration": null,
     "end_time": null,
     "exception": null,
     "start_time": null,
     "status": "pending"
    },
    "tags": []
   },
   "outputs": [],
   "source": [
    "aggregate(joined_df_v2$ride_length ~ joined_df_v2$member_casual + \n",
    "            joined_df_v2$day_of_week, FUN = mean)"
   ]
  },
  {
   "cell_type": "markdown",
   "id": "d0c8d8e9",
   "metadata": {
    "papermill": {
     "duration": null,
     "end_time": null,
     "exception": null,
     "start_time": null,
     "status": "pending"
    },
    "tags": []
   },
   "source": [
    "Arranging the days of the week by order starting from Sunday to Monday."
   ]
  },
  {
   "cell_type": "code",
   "execution_count": null,
   "id": "6fd08042",
   "metadata": {
    "execution": {
     "iopub.execute_input": "2022-01-04T22:14:10.825041Z",
     "iopub.status.busy": "2022-01-04T22:14:10.823188Z",
     "iopub.status.idle": "2022-01-04T22:14:10.972549Z"
    },
    "papermill": {
     "duration": null,
     "end_time": null,
     "exception": null,
     "start_time": null,
     "status": "pending"
    },
    "tags": []
   },
   "outputs": [],
   "source": [
    "joined_df_v2$day_of_week <- ordered(joined_df_v2$day_of_week, \n",
    "                                    levels=c(\"Sunday\", \"Monday\", \"Tuesday\", \"Wednesday\", \"Thursday\", \"Friday\", \"Saturday\"))"
   ]
  },
  {
   "cell_type": "markdown",
   "id": "e094c439",
   "metadata": {
    "papermill": {
     "duration": null,
     "end_time": null,
     "exception": null,
     "start_time": null,
     "status": "pending"
    },
    "tags": []
   },
   "source": [
    "* Discovering patterns between the average duration of ride by each day for members and casual users on weekday order"
   ]
  },
  {
   "cell_type": "code",
   "execution_count": null,
   "id": "240206e8",
   "metadata": {
    "execution": {
     "iopub.execute_input": "2022-01-04T22:14:14.250168Z",
     "iopub.status.busy": "2022-01-04T22:14:14.248549Z",
     "iopub.status.idle": "2022-01-04T22:14:18.937091Z"
    },
    "papermill": {
     "duration": null,
     "end_time": null,
     "exception": null,
     "start_time": null,
     "status": "pending"
    },
    "tags": []
   },
   "outputs": [],
   "source": [
    "aggregate(joined_df_v2$ride_length ~ joined_df_v2$member_casual +\n",
    "            joined_df_v2$day_of_week, FUN = mean)"
   ]
  },
  {
   "cell_type": "markdown",
   "id": "fc1f2237",
   "metadata": {
    "papermill": {
     "duration": null,
     "end_time": null,
     "exception": null,
     "start_time": null,
     "status": "pending"
    },
    "tags": []
   },
   "source": [
    "There is interesting patterns found out here when was analyzing the average duration of rides for members and casual users on weekdays. \n",
    "Casual users average ride time is highest on Sunday 37.74min and lowest on Wednesday 27.74min. \n",
    "In case of members the highest average ride time is on Sunday 15.77min and the lowest is on Tuesday 12.86min.\n",
    " \n",
    "\n",
    "\n",
    "* Analyzing ridership data by user type and day of the week"
   ]
  },
  {
   "cell_type": "code",
   "execution_count": null,
   "id": "e8a91c24",
   "metadata": {
    "execution": {
     "iopub.execute_input": "2022-01-04T22:14:40.695557Z",
     "iopub.status.busy": "2022-01-04T22:14:40.693755Z",
     "iopub.status.idle": "2022-01-04T22:14:40.728261Z"
    },
    "papermill": {
     "duration": null,
     "end_time": null,
     "exception": null,
     "start_time": null,
     "status": "pending"
    },
    "tags": []
   },
   "outputs": [],
   "source": [
    "joined_df_v2 %>% \n",
    "  mutate(weekday = wday(started_at, label = TRUE)) %>%  #creates weekday field using wday()\n",
    "  group_by(member_casual, weekday) %>%                  #groups by user type and weekday\n",
    "  summarise(number_of_rides = n()                       #calculates the number of rides and average duration \n",
    "            ,average_duration = mean(ride_length)) %>%  # calculates the average duration\n",
    "  arrange(member_casual, weekday)                       # sorts"
   ]
  },
  {
   "cell_type": "markdown",
   "id": "d7a1db72",
   "metadata": {
    "papermill": {
     "duration": null,
     "end_time": null,
     "exception": null,
     "start_time": null,
     "status": "pending"
    },
    "tags": []
   },
   "source": [
    "Creating a visualization of number of rides vs user type per weekday"
   ]
  },
  {
   "cell_type": "code",
   "execution_count": null,
   "id": "3dc8ccc8",
   "metadata": {
    "execution": {
     "iopub.execute_input": "2022-01-04T22:14:46.769560Z",
     "iopub.status.busy": "2022-01-04T22:14:46.767588Z",
     "iopub.status.idle": "2022-01-04T22:14:46.806387Z"
    },
    "papermill": {
     "duration": null,
     "end_time": null,
     "exception": null,
     "start_time": null,
     "status": "pending"
    },
    "tags": []
   },
   "outputs": [],
   "source": [
    "joined_df_v2 %>% \n",
    "  mutate(weekday = wday(started_at, label = TRUE)) %>% \n",
    "  group_by(member_casual, weekday) %>% \n",
    "  summarise(number_of_rides = n()\n",
    "            ,average_duration = mean(ride_length)) %>% \n",
    "  arrange(member_casual, weekday)  %>% \n",
    "  ggplot(aes(x = weekday, y = number_of_rides, fill = member_casual)) +\n",
    "  theme(panel.grid.major = element_blank(), panel.grid.minor = element_blank(),\n",
    "        panel.background = element_blank(), axis.line = element_line(colour = \"black\"))+\n",
    "  labs(title = \"Usage of bicycles\", subtitle = \"By day of the week\", x = \"Day of week\", y = \"Number of Rides\", fill = 'User type')+\n",
    "  geom_col(position = \"dodge\")"
   ]
  },
  {
   "cell_type": "markdown",
   "id": "b29aea4d",
   "metadata": {
    "papermill": {
     "duration": null,
     "end_time": null,
     "exception": null,
     "start_time": null,
     "status": "pending"
    },
    "tags": []
   },
   "source": [
    "Summing up we can clearly notice that casual users have higher number of rides and average ride time on Friday, Saturday and Sunday. We can conclude that they use bikes in their free time maybe for leisure and fun. While this is completely contradiction for member type of users. They use bikes as a transportation for going to work, university or school.\n",
    "\n",
    "* Analyzing average duration of travel by user type and weekday"
   ]
  },
  {
   "cell_type": "code",
   "execution_count": null,
   "id": "c141195a",
   "metadata": {
    "papermill": {
     "duration": null,
     "end_time": null,
     "exception": null,
     "start_time": null,
     "status": "pending"
    },
    "tags": []
   },
   "outputs": [],
   "source": [
    "joined_df_v2 %>% \n",
    "  mutate(weekday = wday(started_at, label = TRUE)) %>% \n",
    "  group_by(member_casual, weekday) %>% \n",
    "  summarise(number_of_rides = n()\n",
    "            ,average_duration = mean(ride_length)) %>% \n",
    "  arrange(member_casual, weekday) "
   ]
  },
  {
   "cell_type": "markdown",
   "id": "86ab2df4",
   "metadata": {
    "papermill": {
     "duration": null,
     "end_time": null,
     "exception": null,
     "start_time": null,
     "status": "pending"
    },
    "tags": []
   },
   "source": [
    "Creating a visualization of average duration of rides per user type"
   ]
  },
  {
   "cell_type": "code",
   "execution_count": null,
   "id": "42f50a6a",
   "metadata": {
    "execution": {
     "iopub.execute_input": "2022-01-04T22:14:51.753175Z",
     "iopub.status.busy": "2022-01-04T22:14:51.751286Z",
     "iopub.status.idle": "2022-01-04T22:14:51.786953Z"
    },
    "papermill": {
     "duration": null,
     "end_time": null,
     "exception": null,
     "start_time": null,
     "status": "pending"
    },
    "tags": []
   },
   "outputs": [],
   "source": [
    "joined_df_v2 %>% \n",
    "  mutate(weekday = wday(started_at, label = TRUE)) %>% \n",
    "  group_by(member_casual, weekday) %>% \n",
    "  summarise(number_of_rides = n()\n",
    "            ,average_duration = mean(ride_length)) %>% \n",
    "  arrange(member_casual, weekday)  %>% \n",
    "  ggplot(aes(x = weekday, y = average_duration, fill = member_casual)) +\n",
    "  theme(panel.grid.major = element_blank(), panel.grid.minor = element_blank(),\n",
    "        panel.background = element_blank(), axis.line = element_line(colour = \"black\"))+\n",
    "  labs(title = \"Usage of bicycles\", subtitle = \"By average duration\", x = \"Day of week\", y = \"Average duration\", fill = 'User type')+\n",
    "  \n",
    "  geom_col(position = \"dodge\")"
   ]
  },
  {
   "cell_type": "markdown",
   "id": "8a7fa00a",
   "metadata": {
    "papermill": {
     "duration": null,
     "end_time": null,
     "exception": null,
     "start_time": null,
     "status": "pending"
    },
    "tags": []
   },
   "source": [
    "The visualization clearly shows that casual users generally spend more time on rides than members.\n",
    "Surprisingly was discovered that the average duration of trips for casual users is more than 2 times higher than for members.\n",
    "\n",
    "* Discovering the most preferred type of bicycles for use during weekday"
   ]
  },
  {
   "cell_type": "code",
   "execution_count": null,
   "id": "d3afa0af",
   "metadata": {
    "execution": {
     "iopub.execute_input": "2022-01-04T22:14:57.164804Z",
     "iopub.status.busy": "2022-01-04T22:14:57.162968Z",
     "iopub.status.idle": "2022-01-04T22:14:57.198179Z"
    },
    "papermill": {
     "duration": null,
     "end_time": null,
     "exception": null,
     "start_time": null,
     "status": "pending"
    },
    "tags": []
   },
   "outputs": [],
   "source": [
    "joined_df_v2 %>% \n",
    "  mutate(weekday = wday(started_at, label = TRUE)) %>% \n",
    "  group_by(rideable_type) %>%\n",
    "  summarize(count=length(ride_id),\n",
    "            percentage_of_total=(length(ride_id)/nrow(joined_df_v2))*100,\n",
    "            members_count=sum(member_casual==\"member\"),\n",
    "            casual_count=sum(member_casual==\"casual\"))"
   ]
  },
  {
   "cell_type": "markdown",
   "id": "01f8c5d2",
   "metadata": {
    "papermill": {
     "duration": null,
     "end_time": null,
     "exception": null,
     "start_time": null,
     "status": "pending"
    },
    "tags": []
   },
   "source": [
    "Creating a visualization for usage of specific type of bicycle during a week per user type"
   ]
  },
  {
   "cell_type": "code",
   "execution_count": null,
   "id": "061cba2b",
   "metadata": {
    "execution": {
     "iopub.execute_input": "2022-01-04T22:15:01.837750Z",
     "iopub.status.busy": "2022-01-04T22:15:01.835861Z",
     "iopub.status.idle": "2022-01-04T22:15:01.872076Z"
    },
    "papermill": {
     "duration": null,
     "end_time": null,
     "exception": null,
     "start_time": null,
     "status": "pending"
    },
    "tags": []
   },
   "outputs": [],
   "source": [
    "joined_df_v2 %>% \n",
    "  mutate(weekday = wday(started_at, label = TRUE)) %>% \n",
    "  ggplot(aes(rideable_type, fill = member_casual)) +\n",
    "    \n",
    "  theme(panel.grid.major = element_blank(), panel.grid.minor = element_blank(),\n",
    "        panel.background = element_blank(), axis.line = element_line(colour = \"black\"))+\n",
    "  labs(title = \"Bicycle type per user\", subtitle = \"By day of week\", x = \"Bicycle type\", y = \"Number of Rides\", fill = 'User type')+\n",
    "    geom_bar()+\n",
    "    facet_wrap(~weekday)+\n",
    "    theme(axis.text.x = element_text(angle=70))"
   ]
  },
  {
   "cell_type": "markdown",
   "id": "a60a1cee",
   "metadata": {
    "papermill": {
     "duration": null,
     "end_time": null,
     "exception": null,
     "start_time": null,
     "status": "pending"
    },
    "tags": []
   },
   "source": [
    "In order to explore which type of bicycles both users prefer to ride per weekday the graph was drawn. We can clearly see that both casual and member type of users prefer ride classic type of the bikes.\n",
    "\n",
    "\n",
    "* Monthly rides number per user type"
   ]
  },
  {
   "cell_type": "code",
   "execution_count": null,
   "id": "483caba5",
   "metadata": {
    "execution": {
     "iopub.execute_input": "2022-01-04T22:15:06.600912Z",
     "iopub.status.busy": "2022-01-04T22:15:06.599074Z",
     "iopub.status.idle": "2022-01-04T22:15:06.635433Z"
    },
    "papermill": {
     "duration": null,
     "end_time": null,
     "exception": null,
     "start_time": null,
     "status": "pending"
    },
    "tags": []
   },
   "outputs": [],
   "source": [
    "joined_df_v2 %>% \n",
    "  mutate(month = month(started_at, label= TRUE)) %>% \n",
    "  group_by(member_casual, month) %>%\n",
    "  summarize(number_of_rides =n(),average_duration = mean(ride_length)) %>%\n",
    "  arrange(member_casual,month)"
   ]
  },
  {
   "cell_type": "markdown",
   "id": "cb76ba38",
   "metadata": {
    "papermill": {
     "duration": null,
     "end_time": null,
     "exception": null,
     "start_time": null,
     "status": "pending"
    },
    "tags": []
   },
   "source": [
    "Visualization of number of rides on monthly matter per user type"
   ]
  },
  {
   "cell_type": "code",
   "execution_count": null,
   "id": "dacc6962",
   "metadata": {
    "execution": {
     "iopub.execute_input": "2022-01-04T22:15:12.176024Z",
     "iopub.status.busy": "2022-01-04T22:15:12.174068Z",
     "iopub.status.idle": "2022-01-04T22:15:12.415065Z"
    },
    "papermill": {
     "duration": null,
     "end_time": null,
     "exception": null,
     "start_time": null,
     "status": "pending"
    },
    "tags": []
   },
   "outputs": [],
   "source": [
    "ggplot(joined_df_v2, aes(month(started_at), fill=member_casual))+\n",
    "  theme(panel.grid.major = element_blank(), panel.grid.minor = element_blank(),\n",
    "        panel.background = element_blank(), axis.line = element_line(colour = \"black\"))+\n",
    "  labs(title = \"Use of the bicycle\",subtitle = \"By month\", x = \"Month\", y = \"Number of Rides\", fill = 'Type of user')+\n",
    "  geom_bar()"
   ]
  },
  {
   "cell_type": "markdown",
   "id": "631eb33a",
   "metadata": {
    "papermill": {
     "duration": null,
     "end_time": null,
     "exception": null,
     "start_time": null,
     "status": "pending"
    },
    "tags": []
   },
   "source": [
    "This graph is showing in which months or seasons the usage of bicycles is higher. Looking deeply to our finding we can see that the highest number of rides casual users have in July, while the members have in August. Seasonal analysis shows that demand of bikes is higher in Summer both for casual and member type of users.\n",
    "\n",
    "\n",
    "* Number of casual vs member types of users"
   ]
  },
  {
   "cell_type": "code",
   "execution_count": null,
   "id": "7c70a9e3",
   "metadata": {
    "execution": {
     "iopub.execute_input": "2022-01-04T22:15:24.592370Z",
     "iopub.status.busy": "2022-01-04T22:15:24.590055Z",
     "iopub.status.idle": "2022-01-04T22:15:30.762184Z"
    },
    "papermill": {
     "duration": null,
     "end_time": null,
     "exception": null,
     "start_time": null,
     "status": "pending"
    },
    "tags": []
   },
   "outputs": [],
   "source": [
    "joined_df_v2 %>%\n",
    "  group_by(member_casual) %>%\n",
    "  summarize(number_of_rides =n())\n",
    "\n",
    "ggplot(joined_df_v2, aes(member_casual, fill=member_casual))+\n",
    "  theme(panel.grid.major = element_blank(), panel.grid.minor = element_blank(),\n",
    "        panel.background = element_blank(), axis.line = element_line(colour = \"black\"))+\n",
    "  labs(title = \"Users\",subtitle = \"Comparison of the number of users\", x = \"Users\", y = \"Number of Users\", fill = 'Type of user')+\n",
    "  geom_bar()"
   ]
  },
  {
   "cell_type": "markdown",
   "id": "df11f439",
   "metadata": {
    "papermill": {
     "duration": null,
     "end_time": null,
     "exception": null,
     "start_time": null,
     "status": "pending"
    },
    "tags": []
   },
   "source": [
    "Company has more member type of users than casual riders.\n",
    "\n",
    "\n",
    "\n",
    "**Summary of Analysis**\n",
    "\n",
    "1. Despite of having more member type of riders than casual riders, the average duration of trips for casual riders is more than for members. Casual users average ride time is highest on Sunday 37.74 minutes and lowest on Wednesday 27.74 minutes. The highest average ride time for members is on Sunday 15.77 minutes and the lowest is on Tuesday 12.86 minutes. \n",
    "\n",
    "2. Clearly noticeable that casual users have higher number of rides and average ride time on weekend. So, casual users  mainly ride bikes in their free time maybe for leisure and fun. Contradictory to them member type of users ride bikes more often during working days. As a result they use bikes as a transportation for going to work, university or school.\n",
    "\n",
    "3. Both casual and member type of users prefer ride classic type of the bikes, followed by electric type of bike.\n",
    "\n",
    "4. The highest number of rides casual users have in July, while the members have in August. By looking the data we see that the demand of bikes significantly is increasing from the end of the Spring and becoming the highest in the Summer season both for casual and member type of users and the lower on winter.\n",
    "\n",
    "5. Surprisingly annual users overpass the occasional users.\n",
    "\n",
    "\n",
    "**Conclusion**\n",
    "\n",
    "Analysis shows that despite the company has more member type of users than casual once the average ride time is higher for casual users than for the members. Marketing team should be more concentrated on casual users and design marketing strategies in Summer either engaging new customers with casual membership or attracting member users to become casual users.\n",
    "Besides of it, company should get more classic type of bikes, since it has higher demand from both type of users."
   ]
  },
  {
   "cell_type": "markdown",
   "id": "cdcfa0d4",
   "metadata": {
    "papermill": {
     "duration": null,
     "end_time": null,
     "exception": null,
     "start_time": null,
     "status": "pending"
    },
    "tags": []
   },
   "source": [
    "#### Step5: Share\n",
    "\n",
    "##### **Slide 1**\n",
    "\n",
    " **Case Study: How Does a Bike-Share Navigate Speedy Success of Cyclistic company?**\n",
    " \n",
    " Author: Lilit Hayrapetyan\n",
    " \n",
    " Last update: 1/4/2022\n",
    "\n",
    "\n",
    "##### **Slide 2**\n",
    "\n",
    "**Structure**\n",
    "\n",
    "* Introduction\n",
    "\n",
    "* Annual vs occasional users\n",
    " \n",
    "* Usage of bicycles by day of week\n",
    "\n",
    "* Average duration of rides per day of week\n",
    "\n",
    "* Bicycle type per user by day of week\n",
    "\n",
    "* Monthly usage per user type\n",
    "\n",
    "* Conclusion\n",
    "\n",
    "* Reccomendation & future analysis"
   ]
  },
  {
   "cell_type": "markdown",
   "id": "24210f15",
   "metadata": {
    "papermill": {
     "duration": null,
     "end_time": null,
     "exception": null,
     "start_time": null,
     "status": "pending"
    },
    "tags": []
   },
   "source": [
    "##### **Slide 3**\n",
    "\n",
    "**Introduction**\n",
    "\n",
    "Marketing team of Cyclistic company believes the company's future success depends on maximizing the number of annual memberships.\n",
    "Analytics team of Cyclistic company wants to understand how casual riders and annual members use Cyclistic bikes differently with the purpose to designing marketing strategies aimed at converting casual riders into annual members.\n",
    "\n",
    "##### **Slide 4**\n",
    "\n",
    "**Annual and occasional users**"
   ]
  },
  {
   "cell_type": "code",
   "execution_count": null,
   "id": "c1800fa3",
   "metadata": {
    "papermill": {
     "duration": null,
     "end_time": null,
     "exception": null,
     "start_time": null,
     "status": "pending"
    },
    "tags": []
   },
   "outputs": [],
   "source": [
    "ggplot(joined_df_v2, aes(member_casual, fill=member_casual))+\n",
    "  theme(panel.grid.major = element_blank(), panel.grid.minor = element_blank(),\n",
    "        panel.background = element_blank(), axis.line = element_line(colour = \"black\"))+\n",
    "  labs(title = \"Users\",subtitle = \"Comparison of the number of users\", x = \"Users\", y = \"Number of Users\", fill = 'Type of user')+\n",
    "  geom_bar()"
   ]
  },
  {
   "attachments": {
    "a3b881c1-c32b-4c1b-8e95-6f14c5ce85c8.png": {
     "image/png": "[encoded data removed]"
    }
   },
   "cell_type": "markdown",
   "id": "ef500d65",
   "metadata": {
    "papermill": {
     "duration": null,
     "end_time": null,
     "exception": null,
     "start_time": null,
     "status": "pending"
    },
    "tags": []
   },
   "source": [
    "![Annual_vs_casual_users.png](attachment:a3b881c1-c32b-4c1b-8e95-6f14c5ce85c8.png)"
   ]
  },
  {
   "cell_type": "markdown",
   "id": "649db844",
   "metadata": {
    "papermill": {
     "duration": null,
     "end_time": null,
     "exception": null,
     "start_time": null,
     "status": "pending"
    },
    "tags": []
   },
   "source": [
    "##### **Slide 5**\n",
    "\n",
    "**Usage of bicycles by day of week**"
   ]
  },
  {
   "cell_type": "code",
   "execution_count": null,
   "id": "4d79c50e",
   "metadata": {
    "execution": {
     "iopub.execute_input": "2022-01-04T22:15:41.294177Z",
     "iopub.status.busy": "2022-01-04T22:15:41.292322Z",
     "iopub.status.idle": "2022-01-04T22:15:41.330099Z"
    },
    "papermill": {
     "duration": null,
     "end_time": null,
     "exception": null,
     "start_time": null,
     "status": "pending"
    },
    "tags": []
   },
   "outputs": [],
   "source": [
    "joined_df_v2 %>% \n",
    "  mutate(weekday = wday(started_at, label = TRUE)) %>% \n",
    "  group_by(member_casual, weekday) %>% \n",
    "  summarise(number_of_rides = n()\n",
    "            ,average_duration = mean(ride_length)) %>% \n",
    "  arrange(member_casual, weekday)  %>% \n",
    "  ggplot(aes(x = weekday, y = number_of_rides, fill = member_casual)) +\n",
    "  theme(panel.grid.major = element_blank(), panel.grid.minor = element_blank(),\n",
    "        panel.background = element_blank(), axis.line = element_line(colour = \"black\"))+\n",
    "  labs(title = \"Usage of bicycles\", subtitle = \"By day of the week\", x = \"Day of week\", y = \"Number of Rides\", fill = 'User type')+\n",
    "  geom_col(position = \"dodge\")"
   ]
  },
  {
   "attachments": {
    "0ed37aff-a323-4876-a373-f167f2045dd7.png": {
     "image/png": "[encoded data removed]"
    }
   },
   "cell_type": "markdown",
   "id": "289033f5",
   "metadata": {
    "papermill": {
     "duration": null,
     "end_time": null,
     "exception": null,
     "start_time": null,
     "status": "pending"
    },
    "tags": []
   },
   "source": [
    "![N_Rides_vs_Weekday.png](attachment:0ed37aff-a323-4876-a373-f167f2045dd7.png)"
   ]
  },
  {
   "cell_type": "markdown",
   "id": "9f8b8194",
   "metadata": {
    "papermill": {
     "duration": null,
     "end_time": null,
     "exception": null,
     "start_time": null,
     "status": "pending"
    },
    "tags": []
   },
   "source": [
    "##### **Slide 6**\n",
    "\n",
    "**Average duration of rides per day of week** "
   ]
  },
  {
   "cell_type": "code",
   "execution_count": null,
   "id": "c14ed891",
   "metadata": {
    "papermill": {
     "duration": null,
     "end_time": null,
     "exception": null,
     "start_time": null,
     "status": "pending"
    },
    "tags": []
   },
   "outputs": [],
   "source": [
    "joined_df_v2 %>% \n",
    "  mutate(weekday = wday(started_at, label = TRUE)) %>% \n",
    "  group_by(member_casual, weekday) %>% \n",
    "  summarise(number_of_rides = n()\n",
    "            ,average_duration = mean(ride_length)) %>% \n",
    "  arrange(member_casual, weekday)  %>% \n",
    "  ggplot(aes(x = weekday, y = average_duration, fill = member_casual)) +\n",
    "  theme(panel.grid.major = element_blank(), panel.grid.minor = element_blank(),\n",
    "        panel.background = element_blank(), axis.line = element_line(colour = \"black\"))+\n",
    "  labs(title = \"Usage of bicycles\", subtitle = \"By average duration\", x = \"Day of week\", y = \"Average duration\", fill = 'User type')+\n",
    "  \n",
    "  geom_col(position = \"dodge\")"
   ]
  },
  {
   "attachments": {
    "4b88fd8f-eaaf-4816-a42c-461510f6cb08.png": {
     "image/png": "[encoded data removed]"
    }
   },
   "cell_type": "markdown",
   "id": "45764b15",
   "metadata": {
    "papermill": {
     "duration": null,
     "end_time": null,
     "exception": null,
     "start_time": null,
     "status": "pending"
    },
    "tags": []
   },
   "source": [
    "![Avg_duration_vs_Weekday.png](attachment:4b88fd8f-eaaf-4816-a42c-461510f6cb08.png)"
   ]
  },
  {
   "cell_type": "markdown",
   "id": "b0f3716c",
   "metadata": {
    "papermill": {
     "duration": null,
     "end_time": null,
     "exception": null,
     "start_time": null,
     "status": "pending"
    },
    "tags": []
   },
   "source": [
    "##### **Slide 7**\n",
    "\n",
    "**Bicycle type per user by day of week**"
   ]
  },
  {
   "cell_type": "code",
   "execution_count": null,
   "id": "d98705f0",
   "metadata": {
    "papermill": {
     "duration": null,
     "end_time": null,
     "exception": null,
     "start_time": null,
     "status": "pending"
    },
    "tags": []
   },
   "outputs": [],
   "source": [
    "joined_df_v2 %>% \n",
    "  mutate(weekday = wday(started_at, label = TRUE)) %>% \n",
    "  ggplot(aes(rideable_type, fill = member_casual)) +\n",
    "    \n",
    "  theme(panel.grid.major = element_blank(), panel.grid.minor = element_blank(),\n",
    "        panel.background = element_blank(), axis.line = element_line(colour = \"black\"))+\n",
    "  labs(title = \"Bicycle type per user\", subtitle = \"By day of week\", x = \"Bicycle type\", y = \"Number of Rides\", fill = 'User type')+\n",
    "    geom_bar()+\n",
    "    facet_wrap(~weekday)+\n",
    "    theme(axis.text.x = element_text(angle=70))"
   ]
  },
  {
   "attachments": {
    "5e032867-9170-451f-8142-8ed99d2510ff.png": {
     "image/png": "[encoded data removed]"
    }
   },
   "cell_type": "markdown",
   "id": "eeacc261",
   "metadata": {
    "papermill": {
     "duration": null,
     "end_time": null,
     "exception": null,
     "start_time": null,
     "status": "pending"
    },
    "tags": []
   },
   "source": [
    "![Bicycle_type_vs_N_rides_vs_Weekday.png](attachment:5e032867-9170-451f-8142-8ed99d2510ff.png)"
   ]
  },
  {
   "cell_type": "markdown",
   "id": "41a0fbe0",
   "metadata": {
    "papermill": {
     "duration": null,
     "end_time": null,
     "exception": null,
     "start_time": null,
     "status": "pending"
    },
    "tags": []
   },
   "source": [
    "##### **Slide 8**\n",
    "\n",
    "**Monthly usage per user type**"
   ]
  },
  {
   "cell_type": "code",
   "execution_count": null,
   "id": "5096853e",
   "metadata": {
    "papermill": {
     "duration": null,
     "end_time": null,
     "exception": null,
     "start_time": null,
     "status": "pending"
    },
    "tags": []
   },
   "outputs": [],
   "source": [
    "ggplot(joined_df_v2, aes(month(started_at), fill=member_casual))+\n",
    "  theme(panel.grid.major = element_blank(), panel.grid.minor = element_blank(),\n",
    "        panel.background = element_blank(), axis.line = element_line(colour = \"black\"))+\n",
    "  labs(title = \"Use of the bicycle\",subtitle = \"By month\", x = \"Month\", y = \"Number of Rides\", fill = 'Type of user')+\n",
    "  geom_bar()\n",
    "```"
   ]
  },
  {
   "attachments": {
    "538338a1-125e-450c-baca-24228508e7ea.png": {
     "image/png": "[encoded data removed]"
    }
   },
   "cell_type": "markdown",
   "id": "33ae51ca",
   "metadata": {
    "papermill": {
     "duration": null,
     "end_time": null,
     "exception": null,
     "start_time": null,
     "status": "pending"
    },
    "tags": []
   },
   "source": [
    "![Monthly_use_of_bicycles.png](attachment:538338a1-125e-450c-baca-24228508e7ea.png)"
   ]
  },
  {
   "cell_type": "markdown",
   "id": "b3b48ed3",
   "metadata": {
    "papermill": {
     "duration": null,
     "end_time": null,
     "exception": null,
     "start_time": null,
     "status": "pending"
    },
    "tags": []
   },
   "source": [
    "##### **Slide 9**\n",
    "\n",
    "**Conclusion**\n",
    "\n",
    "* Surprisingly annual users overpass the occasional users.\n",
    "\n",
    "* Despite of having higher number of annual riders, the average duration of trips for casual riders is longer than for members. Casual users average ride time is highest on Sunday 37.74min and lowest on Wednesday 27.74min. The highest average ride time for annual users is on Sunday 15.77min and the lowest is on Tuesday 12.86min. \n",
    "\n",
    "* Casual users make more rides and spend more average riding time on weekend. So, casual users  mainly ride bikes in their free time maybe for leisure and for fun. \n",
    "Contradictory to them annual users ride bikes more often during weekday. So, we conclude they use bikes as a transportation for going to work, university or school.\n",
    "\n",
    "* Both occasional and annual users prefer to ride classic type of the bikes, followed by electric type of the bike.\n",
    "\n",
    "* The highest number of rides casual users have in July, while the annual members have in August. Generally, the demand of bikes significantly is increasing from the end of the Spring and becoming the highest in the Summer both for casual and member type of users and the lower on winter."
   ]
  },
  {
   "cell_type": "markdown",
   "id": "882521a7",
   "metadata": {
    "papermill": {
     "duration": null,
     "end_time": null,
     "exception": null,
     "start_time": null,
     "status": "pending"
    },
    "tags": []
   },
   "source": [
    "##### **Slide 10**\n",
    "\n",
    "**Recommendations**\n",
    "\n",
    "* Design marketing strategies either for attracting new casual user or converting annual riders to casual riders.\n",
    "\n",
    "* Implement marketing plan at the beginning of Summer since the usage of bikes has highest number in Summer season.\n",
    "\n",
    "* Acquire more classic type of bikes, since it has the highest demand.\n",
    "\n",
    "\n",
    "\n",
    "**Future Analysis**\n",
    "\n",
    "* Collect information about stations for making analysis per station.\n",
    "\n",
    "* Collect information about supply and demand of all type of bicycles per station."
   ]
  },
  {
   "cell_type": "markdown",
   "id": "d2b7e6c8",
   "metadata": {
    "papermill": {
     "duration": null,
     "end_time": null,
     "exception": null,
     "start_time": null,
     "status": "pending"
    },
    "tags": []
   },
   "source": [
    "#### Step6: Act\n",
    "\n",
    "**Recommendations**\n",
    "\n",
    "* Design marketing strategies either for attracting new casual user or converting annual riders to casual riders.\n",
    "\n",
    "* Implement marketing plan at the beginning of Summer since the usage of bikes has highest number in Summer season.\n",
    "\n",
    "* Acquire more classic type of bikes, since it has the highest demand.\n",
    "\n",
    "\n",
    "\n",
    "**Future Analysis**\n",
    "\n",
    "* Collect information about stations for making analysis per station.\n",
    "\n",
    "* Collect information about supply and demand of all type of bicycles per station."
   ]
  }
 ],
 "metadata": {
  "kernelspec": {
   "display_name": "R",
   "language": "R",
   "name": "ir"
  },
  "language_info": {
   "codemirror_mode": "r",
   "file_extension": ".r",
   "mimetype": "text/x-r-source",
   "name": "R",
   "pygments_lexer": "r",
   "version": "4.0.5"
  },
  "papermill": {
   "default_parameters": {},
   "duration": 58.031903,
   "end_time": "2022-01-04T22:17:04.920695",
   "environment_variables": {},
   "exception": true,
   "input_path": "__notebook__.ipynb",
   "output_path": "__notebook__.ipynb",
   "parameters": {},
   "start_time": "2022-01-04T22:16:06.888792",
   "version": "2.3.3"
  }
 },
 "nbformat": 4,
 "nbformat_minor": 5
}
